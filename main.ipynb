{
 "cells": [
  {
   "cell_type": "markdown",
   "id": "9438ef83",
   "metadata": {},
   "source": [
    "# **Seaborn**"
   ]
  },
  {
   "cell_type": "markdown",
   "id": "cc9bee5f",
   "metadata": {},
   "source": [
    "seaborn adalah library dari python yang berfungsi untuk melakukan visualisasi pada dataset, dimana seaborn lebih mudah digunakan dari pada Matplotlib.\n",
    "\n",
    "Seaborn dibuat di atas matplotlib oleh karena itu ada baiknya mempelajari matplotlib terlebih dahulu daripada seaborn.\n",
    "\n",
    "- Seaborn juga tingkat antarmuka rendah(low) | Matplotlib tingkat antarmuka tinggi (high).\n",
    "- Seaborn fokus pada visual statistik | Maplotlib fokus pada plotting yang umum digunakan.\n",
    "- Seaborn lebih terintegrasi dengan Pandas | Matplotlib kurang terintegrasi dengan Pandas.\n",
    "- Seaborn tidak membutuhkan banyak kode | Maplotlib membutuhkan banyak kode untuk melakukan visualisasi.\n",
    "- Seaborn tidak bisa dengan bebas mengkostum visual | Matplotlib lebih bebas dalam mengkostum."
   ]
  },
  {
   "cell_type": "markdown",
   "id": "c24f94e2",
   "metadata": {},
   "source": [
    "# Import Library"
   ]
  },
  {
   "cell_type": "code",
   "execution_count": 1,
   "id": "c8b27acf",
   "metadata": {},
   "outputs": [],
   "source": [
    "import pandas as pd\n",
    "import numpy as np\n",
    "import seaborn as sns\n",
    "import matplotlib.pyplot as plt"
   ]
  },
  {
   "cell_type": "code",
   "execution_count": 2,
   "id": "d5c28ad7",
   "metadata": {},
   "outputs": [
    {
     "data": {
      "text/html": [
       "<div>\n",
       "<style scoped>\n",
       "    .dataframe tbody tr th:only-of-type {\n",
       "        vertical-align: middle;\n",
       "    }\n",
       "\n",
       "    .dataframe tbody tr th {\n",
       "        vertical-align: top;\n",
       "    }\n",
       "\n",
       "    .dataframe thead th {\n",
       "        text-align: right;\n",
       "    }\n",
       "</style>\n",
       "<table border=\"1\" class=\"dataframe\">\n",
       "  <thead>\n",
       "    <tr style=\"text-align: right;\">\n",
       "      <th></th>\n",
       "      <th>Make</th>\n",
       "      <th>Model</th>\n",
       "      <th>Type</th>\n",
       "      <th>Origin</th>\n",
       "      <th>DriveTrain</th>\n",
       "      <th>MSRP</th>\n",
       "      <th>Invoice</th>\n",
       "      <th>EngineSize</th>\n",
       "      <th>Cylinders</th>\n",
       "      <th>Horsepower</th>\n",
       "      <th>MPG_City</th>\n",
       "      <th>MPG_Highway</th>\n",
       "      <th>Weight</th>\n",
       "      <th>Wheelbase</th>\n",
       "      <th>Length</th>\n",
       "    </tr>\n",
       "  </thead>\n",
       "  <tbody>\n",
       "    <tr>\n",
       "      <th>0</th>\n",
       "      <td>Acura</td>\n",
       "      <td>MDX</td>\n",
       "      <td>SUV</td>\n",
       "      <td>Asia</td>\n",
       "      <td>All</td>\n",
       "      <td>$36,945</td>\n",
       "      <td>$33,337</td>\n",
       "      <td>3.5</td>\n",
       "      <td>6.0</td>\n",
       "      <td>265.0</td>\n",
       "      <td>17.0</td>\n",
       "      <td>23.0</td>\n",
       "      <td>4451.0</td>\n",
       "      <td>106.0</td>\n",
       "      <td>189.0</td>\n",
       "    </tr>\n",
       "    <tr>\n",
       "      <th>1</th>\n",
       "      <td>Acura</td>\n",
       "      <td>RSX Type S 2dr</td>\n",
       "      <td>Sedan</td>\n",
       "      <td>Asia</td>\n",
       "      <td>Front</td>\n",
       "      <td>$23,820</td>\n",
       "      <td>$21,761</td>\n",
       "      <td>2.0</td>\n",
       "      <td>4.0</td>\n",
       "      <td>200.0</td>\n",
       "      <td>24.0</td>\n",
       "      <td>31.0</td>\n",
       "      <td>2778.0</td>\n",
       "      <td>101.0</td>\n",
       "      <td>172.0</td>\n",
       "    </tr>\n",
       "    <tr>\n",
       "      <th>2</th>\n",
       "      <td>Acura</td>\n",
       "      <td>TSX 4dr</td>\n",
       "      <td>Sedan</td>\n",
       "      <td>Asia</td>\n",
       "      <td>Front</td>\n",
       "      <td>$26,990</td>\n",
       "      <td>$24,647</td>\n",
       "      <td>2.4</td>\n",
       "      <td>4.0</td>\n",
       "      <td>200.0</td>\n",
       "      <td>22.0</td>\n",
       "      <td>29.0</td>\n",
       "      <td>3230.0</td>\n",
       "      <td>105.0</td>\n",
       "      <td>183.0</td>\n",
       "    </tr>\n",
       "    <tr>\n",
       "      <th>3</th>\n",
       "      <td>Acura</td>\n",
       "      <td>TL 4dr</td>\n",
       "      <td>Sedan</td>\n",
       "      <td>Asia</td>\n",
       "      <td>Front</td>\n",
       "      <td>$33,195</td>\n",
       "      <td>$30,299</td>\n",
       "      <td>3.2</td>\n",
       "      <td>6.0</td>\n",
       "      <td>270.0</td>\n",
       "      <td>20.0</td>\n",
       "      <td>28.0</td>\n",
       "      <td>3575.0</td>\n",
       "      <td>108.0</td>\n",
       "      <td>186.0</td>\n",
       "    </tr>\n",
       "    <tr>\n",
       "      <th>4</th>\n",
       "      <td>Acura</td>\n",
       "      <td>3.5 RL 4dr</td>\n",
       "      <td>Sedan</td>\n",
       "      <td>Asia</td>\n",
       "      <td>Front</td>\n",
       "      <td>$43,755</td>\n",
       "      <td>$39,014</td>\n",
       "      <td>3.5</td>\n",
       "      <td>6.0</td>\n",
       "      <td>225.0</td>\n",
       "      <td>18.0</td>\n",
       "      <td>24.0</td>\n",
       "      <td>3880.0</td>\n",
       "      <td>115.0</td>\n",
       "      <td>197.0</td>\n",
       "    </tr>\n",
       "  </tbody>\n",
       "</table>\n",
       "</div>"
      ],
      "text/plain": [
       "    Make           Model   Type Origin DriveTrain      MSRP   Invoice  \\\n",
       "0  Acura             MDX    SUV   Asia        All  $36,945   $33,337    \n",
       "1  Acura  RSX Type S 2dr  Sedan   Asia      Front  $23,820   $21,761    \n",
       "2  Acura         TSX 4dr  Sedan   Asia      Front  $26,990   $24,647    \n",
       "3  Acura          TL 4dr  Sedan   Asia      Front  $33,195   $30,299    \n",
       "4  Acura      3.5 RL 4dr  Sedan   Asia      Front  $43,755   $39,014    \n",
       "\n",
       "   EngineSize  Cylinders  Horsepower  MPG_City  MPG_Highway  Weight  \\\n",
       "0         3.5        6.0       265.0      17.0         23.0  4451.0   \n",
       "1         2.0        4.0       200.0      24.0         31.0  2778.0   \n",
       "2         2.4        4.0       200.0      22.0         29.0  3230.0   \n",
       "3         3.2        6.0       270.0      20.0         28.0  3575.0   \n",
       "4         3.5        6.0       225.0      18.0         24.0  3880.0   \n",
       "\n",
       "   Wheelbase  Length  \n",
       "0      106.0   189.0  \n",
       "1      101.0   172.0  \n",
       "2      105.0   183.0  \n",
       "3      108.0   186.0  \n",
       "4      115.0   197.0  "
      ]
     },
     "execution_count": 2,
     "metadata": {},
     "output_type": "execute_result"
    }
   ],
   "source": [
    "df = pd.read_csv('sampleCarData.csv')\n",
    "df.head()"
   ]
  },
  {
   "cell_type": "markdown",
   "id": "6a27cccc",
   "metadata": {},
   "source": [
    "Sebelum memulai langkah selanjutnya, menurut saya langkah awal sebelum memproses dataset adalah memahami dan mengalisa kolom-kolom pada dataset, jadi berikut adalah arti dari tiap kolomnya :\n",
    "Make: Merek mobil.\n",
    "- `Model`: Nama model mobil.\n",
    "- `Type`: Jenis mobil berdasarkan bentuk atau kategori.\n",
    "- `Origin`: Asal wilayah produksi mobil.\n",
    "- `DriveTrain`: Sistem penggerak roda.\n",
    "- `MSRP`: Harga resmi yang disarankan pabrikan.\n",
    "- `Invoice`: Harga faktur yang dibayarkan dealer ke pabrikan.\n",
    "- `EngineSize`: Kapasitas mesin dalam liter.\n",
    "- `Cylinders`: Jumlah silinder pada mesin.\n",
    "- `Horsepower`: Tenaga mesin yang dihasilkan.\n",
    "- `MPG_City`: Efisiensi bahan bakar saat digunakan di dalam kota.\n",
    "- `MPG_Highway`: Efisiensi bahan bakar saat digunakan di jalan tol.\n",
    "- `Weight`: Berat mobil.\n",
    "- `Wheelbase`: Jarak antara sumbu roda depan dan roda belakang.\n",
    "- `Length`: Panjang keseluruhan mobil."
   ]
  },
  {
   "cell_type": "markdown",
   "id": "db0c25c5",
   "metadata": {},
   "source": [
    "# Data Cleaning"
   ]
  },
  {
   "cell_type": "code",
   "execution_count": 3,
   "id": "c1a60b2e",
   "metadata": {},
   "outputs": [
    {
     "data": {
      "text/plain": [
       "Make           4\n",
       "Model          4\n",
       "Type           4\n",
       "Origin         4\n",
       "DriveTrain     4\n",
       "MSRP           4\n",
       "Invoice        4\n",
       "EngineSize     4\n",
       "Cylinders      6\n",
       "Horsepower     4\n",
       "MPG_City       4\n",
       "MPG_Highway    4\n",
       "Weight         4\n",
       "Wheelbase      4\n",
       "Length         4\n",
       "dtype: int64"
      ]
     },
     "execution_count": 3,
     "metadata": {},
     "output_type": "execute_result"
    }
   ],
   "source": [
    "df.isnull().sum()"
   ]
  },
  {
   "cell_type": "code",
   "execution_count": 4,
   "id": "e809aee6",
   "metadata": {},
   "outputs": [],
   "source": [
    "df.dropna(inplace=True)"
   ]
  },
  {
   "cell_type": "code",
   "execution_count": 5,
   "id": "7f0c21ae",
   "metadata": {},
   "outputs": [
    {
     "data": {
      "text/html": [
       "<div>\n",
       "<style scoped>\n",
       "    .dataframe tbody tr th:only-of-type {\n",
       "        vertical-align: middle;\n",
       "    }\n",
       "\n",
       "    .dataframe tbody tr th {\n",
       "        vertical-align: top;\n",
       "    }\n",
       "\n",
       "    .dataframe thead th {\n",
       "        text-align: right;\n",
       "    }\n",
       "</style>\n",
       "<table border=\"1\" class=\"dataframe\">\n",
       "  <thead>\n",
       "    <tr style=\"text-align: right;\">\n",
       "      <th></th>\n",
       "      <th>Make</th>\n",
       "      <th>Model</th>\n",
       "      <th>Type</th>\n",
       "      <th>Origin</th>\n",
       "      <th>DriveTrain</th>\n",
       "      <th>MSRP</th>\n",
       "      <th>Invoice</th>\n",
       "      <th>EngineSize</th>\n",
       "      <th>Cylinders</th>\n",
       "      <th>Horsepower</th>\n",
       "      <th>MPG_City</th>\n",
       "      <th>MPG_Highway</th>\n",
       "      <th>Weight</th>\n",
       "      <th>Wheelbase</th>\n",
       "      <th>Length</th>\n",
       "    </tr>\n",
       "  </thead>\n",
       "  <tbody>\n",
       "    <tr>\n",
       "      <th>0</th>\n",
       "      <td>Acura</td>\n",
       "      <td>MDX</td>\n",
       "      <td>SUV</td>\n",
       "      <td>Asia</td>\n",
       "      <td>All</td>\n",
       "      <td>$36,945</td>\n",
       "      <td>$33,337</td>\n",
       "      <td>3.5</td>\n",
       "      <td>6.0</td>\n",
       "      <td>265.0</td>\n",
       "      <td>17.0</td>\n",
       "      <td>23.0</td>\n",
       "      <td>4451.0</td>\n",
       "      <td>106.0</td>\n",
       "      <td>189.0</td>\n",
       "    </tr>\n",
       "  </tbody>\n",
       "</table>\n",
       "</div>"
      ],
      "text/plain": [
       "    Make Model Type Origin DriveTrain      MSRP   Invoice  EngineSize  \\\n",
       "0  Acura   MDX  SUV   Asia        All  $36,945   $33,337          3.5   \n",
       "\n",
       "   Cylinders  Horsepower  MPG_City  MPG_Highway  Weight  Wheelbase  Length  \n",
       "0        6.0       265.0      17.0         23.0  4451.0      106.0   189.0  "
      ]
     },
     "execution_count": 5,
     "metadata": {},
     "output_type": "execute_result"
    }
   ],
   "source": [
    "df.head(1)"
   ]
  },
  {
   "cell_type": "code",
   "execution_count": 6,
   "id": "20dfe335",
   "metadata": {},
   "outputs": [
    {
     "name": "stdout",
     "output_type": "stream",
     "text": [
      "<class 'pandas.core.frame.DataFrame'>\n",
      "Index: 426 entries, 0 to 431\n",
      "Data columns (total 15 columns):\n",
      " #   Column       Non-Null Count  Dtype  \n",
      "---  ------       --------------  -----  \n",
      " 0   Make         426 non-null    object \n",
      " 1   Model        426 non-null    object \n",
      " 2   Type         426 non-null    object \n",
      " 3   Origin       426 non-null    object \n",
      " 4   DriveTrain   426 non-null    object \n",
      " 5   MSRP         426 non-null    object \n",
      " 6   Invoice      426 non-null    object \n",
      " 7   EngineSize   426 non-null    float64\n",
      " 8   Cylinders    426 non-null    float64\n",
      " 9   Horsepower   426 non-null    float64\n",
      " 10  MPG_City     426 non-null    float64\n",
      " 11  MPG_Highway  426 non-null    float64\n",
      " 12  Weight       426 non-null    float64\n",
      " 13  Wheelbase    426 non-null    float64\n",
      " 14  Length       426 non-null    float64\n",
      "dtypes: float64(8), object(7)\n",
      "memory usage: 53.2+ KB\n"
     ]
    }
   ],
   "source": [
    "df.info()"
   ]
  },
  {
   "cell_type": "code",
   "execution_count": 7,
   "id": "5a157ee3",
   "metadata": {},
   "outputs": [
    {
     "name": "stderr",
     "output_type": "stream",
     "text": [
      "<>:1: SyntaxWarning: invalid escape sequence '\\$'\n",
      "<>:1: SyntaxWarning: invalid escape sequence '\\$'\n",
      "C:\\Users\\ASUS\\AppData\\Local\\Temp\\ipykernel_10344\\999713381.py:1: SyntaxWarning: invalid escape sequence '\\$'\n",
      "  df['MSRP'] = df['MSRP'].replace({'\\$':'', ',':''},regex=True)\n"
     ]
    }
   ],
   "source": [
    "df['MSRP'] = df['MSRP'].replace({'\\$':'', ',':''},regex=True)"
   ]
  },
  {
   "cell_type": "code",
   "execution_count": 8,
   "id": "d3303f92",
   "metadata": {},
   "outputs": [
    {
     "data": {
      "text/plain": [
       "0      36945 \n",
       "1      23820 \n",
       "2      26990 \n",
       "3      33195 \n",
       "4      43755 \n",
       "        ...  \n",
       "427    40565 \n",
       "428    42565 \n",
       "429    45210 \n",
       "430    26135 \n",
       "431    35145 \n",
       "Name: MSRP, Length: 426, dtype: object"
      ]
     },
     "execution_count": 8,
     "metadata": {},
     "output_type": "execute_result"
    }
   ],
   "source": [
    "df['MSRP']"
   ]
  },
  {
   "cell_type": "code",
   "execution_count": 9,
   "id": "1ee8367e",
   "metadata": {},
   "outputs": [],
   "source": [
    "df['MSRP'] = df['MSRP'].astype(int)"
   ]
  },
  {
   "cell_type": "code",
   "execution_count": 10,
   "id": "1fdd6aca",
   "metadata": {},
   "outputs": [],
   "source": [
    "df['Cylinders'] = df['Cylinders'].astype(int)"
   ]
  },
  {
   "cell_type": "code",
   "execution_count": 11,
   "id": "1904ab39",
   "metadata": {},
   "outputs": [
    {
     "name": "stdout",
     "output_type": "stream",
     "text": [
      "<class 'pandas.core.frame.DataFrame'>\n",
      "Index: 426 entries, 0 to 431\n",
      "Data columns (total 15 columns):\n",
      " #   Column       Non-Null Count  Dtype  \n",
      "---  ------       --------------  -----  \n",
      " 0   Make         426 non-null    object \n",
      " 1   Model        426 non-null    object \n",
      " 2   Type         426 non-null    object \n",
      " 3   Origin       426 non-null    object \n",
      " 4   DriveTrain   426 non-null    object \n",
      " 5   MSRP         426 non-null    int64  \n",
      " 6   Invoice      426 non-null    object \n",
      " 7   EngineSize   426 non-null    float64\n",
      " 8   Cylinders    426 non-null    int64  \n",
      " 9   Horsepower   426 non-null    float64\n",
      " 10  MPG_City     426 non-null    float64\n",
      " 11  MPG_Highway  426 non-null    float64\n",
      " 12  Weight       426 non-null    float64\n",
      " 13  Wheelbase    426 non-null    float64\n",
      " 14  Length       426 non-null    float64\n",
      "dtypes: float64(7), int64(2), object(6)\n",
      "memory usage: 53.2+ KB\n"
     ]
    }
   ],
   "source": [
    "df.info()"
   ]
  },
  {
   "cell_type": "markdown",
   "id": "5d2f74ca",
   "metadata": {},
   "source": [
    "# Visualization"
   ]
  },
  {
   "cell_type": "markdown",
   "id": "ba6672ae",
   "metadata": {},
   "source": [
    "## 1. Count Plot"
   ]
  },
  {
   "cell_type": "markdown",
   "id": "7ba9ccc5",
   "metadata": {},
   "source": [
    "**Count Plot** digunakan untuk melihat atau menganalisis dataset yang berbentuk kategori, dimana kita bisa melihat frekuensi (jumlah) dari setiap kategori.\n",
    "\n",
    "`seaborn.countplot(data=None, *, x=None, y=None, hue=None, order=None, hue_order=None, orient=None, color=None, palette=None, saturation=0.75, fill=True, hue_norm=None, stat='count', width=0.8, dodge='auto', gap=0, log_scale=None, native_scale=False, formatter=None, legend='auto', ax=None, **kwargs)`"
   ]
  },
  {
   "cell_type": "code",
   "execution_count": 12,
   "id": "e4649bcd",
   "metadata": {},
   "outputs": [
    {
     "data": {
      "text/html": [
       "<div>\n",
       "<style scoped>\n",
       "    .dataframe tbody tr th:only-of-type {\n",
       "        vertical-align: middle;\n",
       "    }\n",
       "\n",
       "    .dataframe tbody tr th {\n",
       "        vertical-align: top;\n",
       "    }\n",
       "\n",
       "    .dataframe thead th {\n",
       "        text-align: right;\n",
       "    }\n",
       "</style>\n",
       "<table border=\"1\" class=\"dataframe\">\n",
       "  <thead>\n",
       "    <tr style=\"text-align: right;\">\n",
       "      <th></th>\n",
       "      <th>Make</th>\n",
       "      <th>Model</th>\n",
       "      <th>Type</th>\n",
       "      <th>Origin</th>\n",
       "      <th>DriveTrain</th>\n",
       "      <th>MSRP</th>\n",
       "      <th>Invoice</th>\n",
       "      <th>EngineSize</th>\n",
       "      <th>Cylinders</th>\n",
       "      <th>Horsepower</th>\n",
       "      <th>MPG_City</th>\n",
       "      <th>MPG_Highway</th>\n",
       "      <th>Weight</th>\n",
       "      <th>Wheelbase</th>\n",
       "      <th>Length</th>\n",
       "    </tr>\n",
       "  </thead>\n",
       "  <tbody>\n",
       "    <tr>\n",
       "      <th>0</th>\n",
       "      <td>Acura</td>\n",
       "      <td>MDX</td>\n",
       "      <td>SUV</td>\n",
       "      <td>Asia</td>\n",
       "      <td>All</td>\n",
       "      <td>36945</td>\n",
       "      <td>$33,337</td>\n",
       "      <td>3.5</td>\n",
       "      <td>6</td>\n",
       "      <td>265.0</td>\n",
       "      <td>17.0</td>\n",
       "      <td>23.0</td>\n",
       "      <td>4451.0</td>\n",
       "      <td>106.0</td>\n",
       "      <td>189.0</td>\n",
       "    </tr>\n",
       "    <tr>\n",
       "      <th>1</th>\n",
       "      <td>Acura</td>\n",
       "      <td>RSX Type S 2dr</td>\n",
       "      <td>Sedan</td>\n",
       "      <td>Asia</td>\n",
       "      <td>Front</td>\n",
       "      <td>23820</td>\n",
       "      <td>$21,761</td>\n",
       "      <td>2.0</td>\n",
       "      <td>4</td>\n",
       "      <td>200.0</td>\n",
       "      <td>24.0</td>\n",
       "      <td>31.0</td>\n",
       "      <td>2778.0</td>\n",
       "      <td>101.0</td>\n",
       "      <td>172.0</td>\n",
       "    </tr>\n",
       "    <tr>\n",
       "      <th>2</th>\n",
       "      <td>Acura</td>\n",
       "      <td>TSX 4dr</td>\n",
       "      <td>Sedan</td>\n",
       "      <td>Asia</td>\n",
       "      <td>Front</td>\n",
       "      <td>26990</td>\n",
       "      <td>$24,647</td>\n",
       "      <td>2.4</td>\n",
       "      <td>4</td>\n",
       "      <td>200.0</td>\n",
       "      <td>22.0</td>\n",
       "      <td>29.0</td>\n",
       "      <td>3230.0</td>\n",
       "      <td>105.0</td>\n",
       "      <td>183.0</td>\n",
       "    </tr>\n",
       "    <tr>\n",
       "      <th>3</th>\n",
       "      <td>Acura</td>\n",
       "      <td>TL 4dr</td>\n",
       "      <td>Sedan</td>\n",
       "      <td>Asia</td>\n",
       "      <td>Front</td>\n",
       "      <td>33195</td>\n",
       "      <td>$30,299</td>\n",
       "      <td>3.2</td>\n",
       "      <td>6</td>\n",
       "      <td>270.0</td>\n",
       "      <td>20.0</td>\n",
       "      <td>28.0</td>\n",
       "      <td>3575.0</td>\n",
       "      <td>108.0</td>\n",
       "      <td>186.0</td>\n",
       "    </tr>\n",
       "    <tr>\n",
       "      <th>4</th>\n",
       "      <td>Acura</td>\n",
       "      <td>3.5 RL 4dr</td>\n",
       "      <td>Sedan</td>\n",
       "      <td>Asia</td>\n",
       "      <td>Front</td>\n",
       "      <td>43755</td>\n",
       "      <td>$39,014</td>\n",
       "      <td>3.5</td>\n",
       "      <td>6</td>\n",
       "      <td>225.0</td>\n",
       "      <td>18.0</td>\n",
       "      <td>24.0</td>\n",
       "      <td>3880.0</td>\n",
       "      <td>115.0</td>\n",
       "      <td>197.0</td>\n",
       "    </tr>\n",
       "  </tbody>\n",
       "</table>\n",
       "</div>"
      ],
      "text/plain": [
       "    Make           Model   Type Origin DriveTrain   MSRP   Invoice  \\\n",
       "0  Acura             MDX    SUV   Asia        All  36945  $33,337    \n",
       "1  Acura  RSX Type S 2dr  Sedan   Asia      Front  23820  $21,761    \n",
       "2  Acura         TSX 4dr  Sedan   Asia      Front  26990  $24,647    \n",
       "3  Acura          TL 4dr  Sedan   Asia      Front  33195  $30,299    \n",
       "4  Acura      3.5 RL 4dr  Sedan   Asia      Front  43755  $39,014    \n",
       "\n",
       "   EngineSize  Cylinders  Horsepower  MPG_City  MPG_Highway  Weight  \\\n",
       "0         3.5          6       265.0      17.0         23.0  4451.0   \n",
       "1         2.0          4       200.0      24.0         31.0  2778.0   \n",
       "2         2.4          4       200.0      22.0         29.0  3230.0   \n",
       "3         3.2          6       270.0      20.0         28.0  3575.0   \n",
       "4         3.5          6       225.0      18.0         24.0  3880.0   \n",
       "\n",
       "   Wheelbase  Length  \n",
       "0      106.0   189.0  \n",
       "1      101.0   172.0  \n",
       "2      105.0   183.0  \n",
       "3      108.0   186.0  \n",
       "4      115.0   197.0  "
      ]
     },
     "execution_count": 12,
     "metadata": {},
     "output_type": "execute_result"
    }
   ],
   "source": [
    "df.head()"
   ]
  },
  {
   "cell_type": "code",
   "execution_count": 13,
   "id": "cd6e0672",
   "metadata": {},
   "outputs": [
    {
     "data": {
      "text/plain": [
       "array(['Asia', 'Europe', 'USA'], dtype=object)"
      ]
     },
     "execution_count": 13,
     "metadata": {},
     "output_type": "execute_result"
    }
   ],
   "source": [
    "df['Origin'].unique()"
   ]
  },
  {
   "cell_type": "markdown",
   "id": "d00a72ee",
   "metadata": {},
   "source": [
    "Pada plot berikut kita menampilkan jumlah data dari kolom Type dan dikategorikan lagi berdasarkan kolom Origin menggunakan parameter `hue=`.\n",
    "Kita juga menggunakan tema visual menggunakan parrrameter `palette=` dengan tema Set2"
   ]
  },
  {
   "cell_type": "markdown",
   "id": "cb20e3fd",
   "metadata": {},
   "source": [
    "Pada plot berikut, kita bisa melihat data yang paling banyak adalah Type Sedan dengan Origin dari Asia yang mencapai 80 lebih."
   ]
  },
  {
   "cell_type": "code",
   "execution_count": 14,
   "id": "1fd443ff",
   "metadata": {},
   "outputs": [
    {
     "data": {
      "text/plain": [
       "<Axes: xlabel='Type', ylabel='count'>"
      ]
     },
     "execution_count": 14,
     "metadata": {},
     "output_type": "execute_result"
    },
    {
     "data": {
      "image/png": "[encoded data removed]",
      "text/plain": [
       "<Figure size 640x480 with 1 Axes>"
      ]
     },
     "metadata": {},
     "output_type": "display_data"
    }
   ],
   "source": [
    "sns.countplot(x='Type', data=df, palette='Set2', hue='Origin')"
   ]
  },
  {
   "cell_type": "markdown",
   "id": "01c60bda",
   "metadata": {},
   "source": [
    "Dengan menggunaka parameter `order=`, kita bisa memfilter data apa saja yang akan kita tampilkan seperti pada variabel `origin_order` berikut, seharusnya memiliki 3 data tetapi kita memasukkan 2 data saja.<br>\n",
    "Berlaku juga pada data di sumbu Y menggunakan parm `hue_order=`, kita bisa memfilter, menggunakan data apa saja yg kita gunakan, contoh pada var `type_order` berfungsi untuk data apa yang digunakan."
   ]
  },
  {
   "cell_type": "code",
   "execution_count": 15,
   "id": "5bbf38e4",
   "metadata": {},
   "outputs": [],
   "source": [
    "# order dan hue_order untuk costum kategori apa saja yang akan di tampilkan\n",
    "type_order = ['SUV', 'Sedan', 'Truck', 'Sports']\n",
    "origin_order = ['Europe', 'Asia']\n"
   ]
  },
  {
   "cell_type": "markdown",
   "id": "247beda8",
   "metadata": {},
   "source": [
    "Pada plot barikut kita melihat data yang kita miliki hanya 4 kategori(SUV, Sedan, Truck, dan Sportss) berdasarkan 2 jenis saja (Europe dan Asia).<br>\n",
    "Data paling sedikit/rendah adalah Type Truck dari Asia. Bahkan, tidak ada Truck dari wilayah Europe."
   ]
  },
  {
   "cell_type": "code",
   "execution_count": 16,
   "id": "6275af96",
   "metadata": {},
   "outputs": [
    {
     "data": {
      "text/plain": [
       "<Axes: xlabel='Type', ylabel='count'>"
      ]
     },
     "execution_count": 16,
     "metadata": {},
     "output_type": "execute_result"
    },
    {
     "data": {
      "image/png": "[encoded data removed]",
      "text/plain": [
       "<Figure size 640x480 with 1 Axes>"
      ]
     },
     "metadata": {},
     "output_type": "display_data"
    }
   ],
   "source": [
    "sns.countplot(x='Type', data=df, palette='Set1', order=type_order, hue='Origin', hue_order=origin_order)"
   ]
  },
  {
   "cell_type": "code",
   "execution_count": 17,
   "id": "3b6c4fca",
   "metadata": {},
   "outputs": [],
   "source": [
    "# sns.countplot(x='Type', data=df, hue='Origin', palette='Set2_r', linewidth=1, facecolor=(1,1,1,1),edgecolor=sns.color_palette('dark', 3))"
   ]
  },
  {
   "cell_type": "markdown",
   "id": "7181cdbe",
   "metadata": {},
   "source": [
    "## 2. Bar Plots"
   ]
  },
  {
   "cell_type": "code",
   "execution_count": 18,
   "id": "58601867",
   "metadata": {},
   "outputs": [
    {
     "data": {
      "text/html": [
       "<div>\n",
       "<style scoped>\n",
       "    .dataframe tbody tr th:only-of-type {\n",
       "        vertical-align: middle;\n",
       "    }\n",
       "\n",
       "    .dataframe tbody tr th {\n",
       "        vertical-align: top;\n",
       "    }\n",
       "\n",
       "    .dataframe thead th {\n",
       "        text-align: right;\n",
       "    }\n",
       "</style>\n",
       "<table border=\"1\" class=\"dataframe\">\n",
       "  <thead>\n",
       "    <tr style=\"text-align: right;\">\n",
       "      <th></th>\n",
       "      <th>Make</th>\n",
       "      <th>Model</th>\n",
       "      <th>Type</th>\n",
       "      <th>Origin</th>\n",
       "      <th>DriveTrain</th>\n",
       "      <th>MSRP</th>\n",
       "      <th>Invoice</th>\n",
       "      <th>EngineSize</th>\n",
       "      <th>Cylinders</th>\n",
       "      <th>Horsepower</th>\n",
       "      <th>MPG_City</th>\n",
       "      <th>MPG_Highway</th>\n",
       "      <th>Weight</th>\n",
       "      <th>Wheelbase</th>\n",
       "      <th>Length</th>\n",
       "    </tr>\n",
       "  </thead>\n",
       "  <tbody>\n",
       "    <tr>\n",
       "      <th>0</th>\n",
       "      <td>Acura</td>\n",
       "      <td>MDX</td>\n",
       "      <td>SUV</td>\n",
       "      <td>Asia</td>\n",
       "      <td>All</td>\n",
       "      <td>36945</td>\n",
       "      <td>$33,337</td>\n",
       "      <td>3.5</td>\n",
       "      <td>6</td>\n",
       "      <td>265.0</td>\n",
       "      <td>17.0</td>\n",
       "      <td>23.0</td>\n",
       "      <td>4451.0</td>\n",
       "      <td>106.0</td>\n",
       "      <td>189.0</td>\n",
       "    </tr>\n",
       "    <tr>\n",
       "      <th>1</th>\n",
       "      <td>Acura</td>\n",
       "      <td>RSX Type S 2dr</td>\n",
       "      <td>Sedan</td>\n",
       "      <td>Asia</td>\n",
       "      <td>Front</td>\n",
       "      <td>23820</td>\n",
       "      <td>$21,761</td>\n",
       "      <td>2.0</td>\n",
       "      <td>4</td>\n",
       "      <td>200.0</td>\n",
       "      <td>24.0</td>\n",
       "      <td>31.0</td>\n",
       "      <td>2778.0</td>\n",
       "      <td>101.0</td>\n",
       "      <td>172.0</td>\n",
       "    </tr>\n",
       "    <tr>\n",
       "      <th>2</th>\n",
       "      <td>Acura</td>\n",
       "      <td>TSX 4dr</td>\n",
       "      <td>Sedan</td>\n",
       "      <td>Asia</td>\n",
       "      <td>Front</td>\n",
       "      <td>26990</td>\n",
       "      <td>$24,647</td>\n",
       "      <td>2.4</td>\n",
       "      <td>4</td>\n",
       "      <td>200.0</td>\n",
       "      <td>22.0</td>\n",
       "      <td>29.0</td>\n",
       "      <td>3230.0</td>\n",
       "      <td>105.0</td>\n",
       "      <td>183.0</td>\n",
       "    </tr>\n",
       "    <tr>\n",
       "      <th>3</th>\n",
       "      <td>Acura</td>\n",
       "      <td>TL 4dr</td>\n",
       "      <td>Sedan</td>\n",
       "      <td>Asia</td>\n",
       "      <td>Front</td>\n",
       "      <td>33195</td>\n",
       "      <td>$30,299</td>\n",
       "      <td>3.2</td>\n",
       "      <td>6</td>\n",
       "      <td>270.0</td>\n",
       "      <td>20.0</td>\n",
       "      <td>28.0</td>\n",
       "      <td>3575.0</td>\n",
       "      <td>108.0</td>\n",
       "      <td>186.0</td>\n",
       "    </tr>\n",
       "    <tr>\n",
       "      <th>4</th>\n",
       "      <td>Acura</td>\n",
       "      <td>3.5 RL 4dr</td>\n",
       "      <td>Sedan</td>\n",
       "      <td>Asia</td>\n",
       "      <td>Front</td>\n",
       "      <td>43755</td>\n",
       "      <td>$39,014</td>\n",
       "      <td>3.5</td>\n",
       "      <td>6</td>\n",
       "      <td>225.0</td>\n",
       "      <td>18.0</td>\n",
       "      <td>24.0</td>\n",
       "      <td>3880.0</td>\n",
       "      <td>115.0</td>\n",
       "      <td>197.0</td>\n",
       "    </tr>\n",
       "  </tbody>\n",
       "</table>\n",
       "</div>"
      ],
      "text/plain": [
       "    Make           Model   Type Origin DriveTrain   MSRP   Invoice  \\\n",
       "0  Acura             MDX    SUV   Asia        All  36945  $33,337    \n",
       "1  Acura  RSX Type S 2dr  Sedan   Asia      Front  23820  $21,761    \n",
       "2  Acura         TSX 4dr  Sedan   Asia      Front  26990  $24,647    \n",
       "3  Acura          TL 4dr  Sedan   Asia      Front  33195  $30,299    \n",
       "4  Acura      3.5 RL 4dr  Sedan   Asia      Front  43755  $39,014    \n",
       "\n",
       "   EngineSize  Cylinders  Horsepower  MPG_City  MPG_Highway  Weight  \\\n",
       "0         3.5          6       265.0      17.0         23.0  4451.0   \n",
       "1         2.0          4       200.0      24.0         31.0  2778.0   \n",
       "2         2.4          4       200.0      22.0         29.0  3230.0   \n",
       "3         3.2          6       270.0      20.0         28.0  3575.0   \n",
       "4         3.5          6       225.0      18.0         24.0  3880.0   \n",
       "\n",
       "   Wheelbase  Length  \n",
       "0      106.0   189.0  \n",
       "1      101.0   172.0  \n",
       "2      105.0   183.0  \n",
       "3      108.0   186.0  \n",
       "4      115.0   197.0  "
      ]
     },
     "execution_count": 18,
     "metadata": {},
     "output_type": "execute_result"
    }
   ],
   "source": [
    "df.head()"
   ]
  },
  {
   "cell_type": "markdown",
   "id": "c2c4ada9",
   "metadata": {},
   "source": [
    "Berbeda dengan counts plot yang hanya bisa melihat Jumlah/banyaknya data dari satu variabel(kolom) saja.<br> Di bar plots kita membuat plot dengan memasukkan 2 variabel yang dimana satu adalah bentuk numerik dan satu lagi berbentuk kategori, cth `MSRP` berbentuk numerik dan `Type` berbentuk kategori "
   ]
  },
  {
   "cell_type": "markdown",
   "id": "68a7f429",
   "metadata": {},
   "source": [
    "Parameter yang umum digunakan :\n",
    "- `capsize=` -> 0.1 - 1.0 | membuat batas pada CI\n",
    "- `ci=` -> None | Menghilangkan CI\n",
    "- `saturation=` -> 0.1 - 1.0 | Mengatur kecerahan pada bar\n",
    "- `estimator=` -> `sum`, `np.median`, | mengubah ukuran pada sumbu y"
   ]
  },
  {
   "cell_type": "markdown",
   "id": "cc57973f",
   "metadata": {},
   "source": [
    "Bisa kita lihat bahwa bar plot dibawah ini menunjukkan harga mobil berdasarkan tipenya.<br>\n",
    "Tetapi ada garis hitam di ujung tiap bar, itu adalah CI-Convident Internal (interval kepercayaan) yang menunjukkan\n",
    "batas bawah dan batas atas yang menunjukkan **seberapa yakin** kita dengan rata-rata itu, kalau data itu diambil dari sampel berbeda."
   ]
  },
  {
   "cell_type": "markdown",
   "id": "34b03bd6",
   "metadata": {},
   "source": [
    "- Bar warna di plot itu sudah posisi rata-rata harga mobil (per kategori).\n",
    "- Garis hitam bukan rata-rata lagi, melainkan rentang ketidakpastian dari rata-rata tadi."
   ]
  },
  {
   "cell_type": "code",
   "execution_count": 34,
   "id": "6a2c52c0",
   "metadata": {},
   "outputs": [
    {
     "data": {
      "text/plain": [
       "<Axes: xlabel='Type', ylabel='MSRP'>"
      ]
     },
     "execution_count": 34,
     "metadata": {},
     "output_type": "execute_result"
    },
    {
     "data": {
      "image/png": "[encoded data removed]",
      "text/plain": [
       "<Figure size 640x480 with 1 Axes>"
      ]
     },
     "metadata": {},
     "output_type": "display_data"
    }
   ],
   "source": [
    "sns.barplot(y='MSRP', x='Type', data=df, palette='Set1', hue='Type')"
   ]
  },
  {
   "cell_type": "markdown",
   "id": "9aecc01a",
   "metadata": {},
   "source": [
    "Contohnya :\n",
    "- Tinggi bar SUV = rata-rata harga SUV (misalnya sekitar 35.000).\n",
    "- Garis hitam naik-turun di atas bar = CI, misalnya dari 32.000 – 38.000.<br>\n",
    "Artinya : \n",
    "- Rata-rata tetap 35.000, bukan di antara 30.000–40.000.\n",
    "- Tapi seaborn bilang: “Kalau kita ambil data SUV lain berkali-kali, rata-rata yang terhitung kemungkinan besar jatuh di rentang 32.000–38.000 ini.”"
   ]
  },
  {
   "cell_type": "code",
   "execution_count": null,
   "id": "e9f7b55c",
   "metadata": {},
   "outputs": [
    {
     "data": {
      "text/plain": [
       "<Axes: xlabel='MSRP', ylabel='Type'>"
      ]
     },
     "execution_count": 30,
     "metadata": {},
     "output_type": "execute_result"
    },
    {
     "data": {
      "image/png": "[encoded data removed]",
      "text/plain": [
       "<Figure size 640x480 with 1 Axes>"
      ]
     },
     "metadata": {},
     "output_type": "display_data"
    }
   ],
   "source": [
    "sns.barplot(x='MSRP', y='Type', data=df, palette='Set1', hue='Origin')"
   ]
  },
  {
   "cell_type": "code",
   "execution_count": 31,
   "id": "5f53a821",
   "metadata": {},
   "outputs": [
    {
     "data": {
      "text/plain": [
       "array(['Hybrid', 'SUV', 'Sedan', 'Sports', 'Truck', 'Wagon'], dtype=object)"
      ]
     },
     "execution_count": 31,
     "metadata": {},
     "output_type": "execute_result"
    }
   ],
   "source": [
    "x = df['Type'].sort_values().unique()\n",
    "x"
   ]
  },
  {
   "cell_type": "markdown",
   "id": "a5491104",
   "metadata": {},
   "source": [
    "Sekarang anda bisa mencoba menambahkan parameter pada plot bar diatas menggunakan `order=` lalu nilainya menggunakan data pada variabel `x` diatas"
   ]
  },
  {
   "cell_type": "markdown",
   "id": "cd1c1fd1",
   "metadata": {},
   "source": [
    "## 3. Box Plot"
   ]
  },
  {
   "cell_type": "markdown",
   "id": "a7def6f9",
   "metadata": {},
   "source": [
    "1. Box plot adalah plot yang menunjukkan informasi statistik deskriptif dari suatu data, seperti Minimal, Quartil 1, Quartil 2 (Median), Quartil 3, Maksimal, Mean, dan Outliers.<br>\n",
    "2. Box plot juga berguna untuk menunjukkan data yang memiliki outliers yang diberi tanda bulatan-bulatan kecil.<br>\n",
    "3. Outliers (nilai ekstrem) adalah nilai yang melenceng atau nilai yang berbeda jauh dari rata-rata, hal ini akan mempengaruhi saat memproses data.  "
   ]
  },
  {
   "cell_type": "markdown",
   "id": "0ada5d01",
   "metadata": {},
   "source": [
    "`seaborn.boxplot(*, x=None, y=None, hue=None, data=None,\n",
    "order=None, hue order=None, orient=None, color=None,\n",
    "palette=None, saturation-0.75, width=0.8, dodge=True,\n",
    "fliersize=5, linewidth=None, whis=1.5, ax=None, **kwargs)`"
   ]
  },
  {
   "cell_type": "code",
   "execution_count": 35,
   "id": "2947bd22",
   "metadata": {},
   "outputs": [
    {
     "data": {
      "text/html": [
       "<div>\n",
       "<style scoped>\n",
       "    .dataframe tbody tr th:only-of-type {\n",
       "        vertical-align: middle;\n",
       "    }\n",
       "\n",
       "    .dataframe tbody tr th {\n",
       "        vertical-align: top;\n",
       "    }\n",
       "\n",
       "    .dataframe thead th {\n",
       "        text-align: right;\n",
       "    }\n",
       "</style>\n",
       "<table border=\"1\" class=\"dataframe\">\n",
       "  <thead>\n",
       "    <tr style=\"text-align: right;\">\n",
       "      <th></th>\n",
       "      <th>Make</th>\n",
       "      <th>Model</th>\n",
       "      <th>Type</th>\n",
       "      <th>Origin</th>\n",
       "      <th>DriveTrain</th>\n",
       "      <th>MSRP</th>\n",
       "      <th>Invoice</th>\n",
       "      <th>EngineSize</th>\n",
       "      <th>Cylinders</th>\n",
       "      <th>Horsepower</th>\n",
       "      <th>MPG_City</th>\n",
       "      <th>MPG_Highway</th>\n",
       "      <th>Weight</th>\n",
       "      <th>Wheelbase</th>\n",
       "      <th>Length</th>\n",
       "    </tr>\n",
       "  </thead>\n",
       "  <tbody>\n",
       "    <tr>\n",
       "      <th>0</th>\n",
       "      <td>Acura</td>\n",
       "      <td>MDX</td>\n",
       "      <td>SUV</td>\n",
       "      <td>Asia</td>\n",
       "      <td>All</td>\n",
       "      <td>36945</td>\n",
       "      <td>$33,337</td>\n",
       "      <td>3.5</td>\n",
       "      <td>6</td>\n",
       "      <td>265.0</td>\n",
       "      <td>17.0</td>\n",
       "      <td>23.0</td>\n",
       "      <td>4451.0</td>\n",
       "      <td>106.0</td>\n",
       "      <td>189.0</td>\n",
       "    </tr>\n",
       "    <tr>\n",
       "      <th>1</th>\n",
       "      <td>Acura</td>\n",
       "      <td>RSX Type S 2dr</td>\n",
       "      <td>Sedan</td>\n",
       "      <td>Asia</td>\n",
       "      <td>Front</td>\n",
       "      <td>23820</td>\n",
       "      <td>$21,761</td>\n",
       "      <td>2.0</td>\n",
       "      <td>4</td>\n",
       "      <td>200.0</td>\n",
       "      <td>24.0</td>\n",
       "      <td>31.0</td>\n",
       "      <td>2778.0</td>\n",
       "      <td>101.0</td>\n",
       "      <td>172.0</td>\n",
       "    </tr>\n",
       "    <tr>\n",
       "      <th>2</th>\n",
       "      <td>Acura</td>\n",
       "      <td>TSX 4dr</td>\n",
       "      <td>Sedan</td>\n",
       "      <td>Asia</td>\n",
       "      <td>Front</td>\n",
       "      <td>26990</td>\n",
       "      <td>$24,647</td>\n",
       "      <td>2.4</td>\n",
       "      <td>4</td>\n",
       "      <td>200.0</td>\n",
       "      <td>22.0</td>\n",
       "      <td>29.0</td>\n",
       "      <td>3230.0</td>\n",
       "      <td>105.0</td>\n",
       "      <td>183.0</td>\n",
       "    </tr>\n",
       "    <tr>\n",
       "      <th>3</th>\n",
       "      <td>Acura</td>\n",
       "      <td>TL 4dr</td>\n",
       "      <td>Sedan</td>\n",
       "      <td>Asia</td>\n",
       "      <td>Front</td>\n",
       "      <td>33195</td>\n",
       "      <td>$30,299</td>\n",
       "      <td>3.2</td>\n",
       "      <td>6</td>\n",
       "      <td>270.0</td>\n",
       "      <td>20.0</td>\n",
       "      <td>28.0</td>\n",
       "      <td>3575.0</td>\n",
       "      <td>108.0</td>\n",
       "      <td>186.0</td>\n",
       "    </tr>\n",
       "    <tr>\n",
       "      <th>4</th>\n",
       "      <td>Acura</td>\n",
       "      <td>3.5 RL 4dr</td>\n",
       "      <td>Sedan</td>\n",
       "      <td>Asia</td>\n",
       "      <td>Front</td>\n",
       "      <td>43755</td>\n",
       "      <td>$39,014</td>\n",
       "      <td>3.5</td>\n",
       "      <td>6</td>\n",
       "      <td>225.0</td>\n",
       "      <td>18.0</td>\n",
       "      <td>24.0</td>\n",
       "      <td>3880.0</td>\n",
       "      <td>115.0</td>\n",
       "      <td>197.0</td>\n",
       "    </tr>\n",
       "  </tbody>\n",
       "</table>\n",
       "</div>"
      ],
      "text/plain": [
       "    Make           Model   Type Origin DriveTrain   MSRP   Invoice  \\\n",
       "0  Acura             MDX    SUV   Asia        All  36945  $33,337    \n",
       "1  Acura  RSX Type S 2dr  Sedan   Asia      Front  23820  $21,761    \n",
       "2  Acura         TSX 4dr  Sedan   Asia      Front  26990  $24,647    \n",
       "3  Acura          TL 4dr  Sedan   Asia      Front  33195  $30,299    \n",
       "4  Acura      3.5 RL 4dr  Sedan   Asia      Front  43755  $39,014    \n",
       "\n",
       "   EngineSize  Cylinders  Horsepower  MPG_City  MPG_Highway  Weight  \\\n",
       "0         3.5          6       265.0      17.0         23.0  4451.0   \n",
       "1         2.0          4       200.0      24.0         31.0  2778.0   \n",
       "2         2.4          4       200.0      22.0         29.0  3230.0   \n",
       "3         3.2          6       270.0      20.0         28.0  3575.0   \n",
       "4         3.5          6       225.0      18.0         24.0  3880.0   \n",
       "\n",
       "   Wheelbase  Length  \n",
       "0      106.0   189.0  \n",
       "1      101.0   172.0  \n",
       "2      105.0   183.0  \n",
       "3      108.0   186.0  \n",
       "4      115.0   197.0  "
      ]
     },
     "execution_count": 35,
     "metadata": {},
     "output_type": "execute_result"
    }
   ],
   "source": [
    "df.head()"
   ]
  },
  {
   "cell_type": "markdown",
   "id": "f43183eb",
   "metadata": {},
   "source": [
    "# Style"
   ]
  },
  {
   "cell_type": "markdown",
   "id": "6e85173f",
   "metadata": {},
   "source": [
    "## Color"
   ]
  },
  {
   "cell_type": "markdown",
   "id": "1ec26b6f",
   "metadata": {},
   "source": [
    "`Palette=''`\n",
    "1. Built in Color Palettes\n",
    "- Sequential: 'Blues', 'Reds', 'Greens'\n",
    "- Diverging: 'RdBu', 'coolwarm', 'BrBG'\n",
    "- Qualitative: 'Set1', 'Set2', 'Paired'\n",
    "2. Format Strings\n",
    "- 'deep', 'muted', 'pastel', 'bright', 'dark', 'colorblind'\n",
    "3. Color Maps dengan Suffix\n",
    "- Menambahkan _r untuk membalik urutan warna\n",
    "- Contoh: 'Blues_r', 'Reds_r'\n",
    "4. Custom Color List\n",
    "- Gunakan sns.color_palette() untuk melihat preview palette\n",
    "- Gunakan sns.palplot() untuk menampilkan palette"
   ]
  },
  {
   "cell_type": "markdown",
   "id": "3b028d13",
   "metadata": {},
   "source": []
  }
 ],
 "metadata": {
  "kernelspec": {
   "display_name": ".venv",
   "language": "python",
   "name": "python3"
  },
  "language_info": {
   "codemirror_mode": {
    "name": "ipython",
    "version": 3
   },
   "file_extension": ".py",
   "mimetype": "text/x-python",
   "name": "python",
   "nbconvert_exporter": "python",
   "pygments_lexer": "ipython3",
   "version": "3.12.4"
  }
 },
 "nbformat": 4,
 "nbformat_minor": 5
}
